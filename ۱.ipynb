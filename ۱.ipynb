{
 "cells": [
  {
   "cell_type": "code",
   "id": "initial_id",
   "metadata": {
    "collapsed": true,
    "ExecuteTime": {
     "end_time": "2025-07-14T14:05:40.151284Z",
     "start_time": "2025-07-14T14:05:35.902071Z"
    }
   },
   "source": "!pip install pandas",
   "outputs": [
    {
     "name": "stdout",
     "output_type": "stream",
     "text": [
      "Requirement already satisfied: pandas in ./.venv/lib/python3.12/site-packages (2.3.1)\r\n",
      "Requirement already satisfied: numpy>=1.26.0 in ./.venv/lib/python3.12/site-packages (from pandas) (2.3.1)\r\n",
      "Requirement already satisfied: python-dateutil>=2.8.2 in ./.venv/lib/python3.12/site-packages (from pandas) (2.9.0.post0)\r\n",
      "Requirement already satisfied: pytz>=2020.1 in ./.venv/lib/python3.12/site-packages (from pandas) (2025.2)\r\n",
      "Requirement already satisfied: tzdata>=2022.7 in ./.venv/lib/python3.12/site-packages (from pandas) (2025.2)\r\n",
      "Requirement already satisfied: six>=1.5 in ./.venv/lib/python3.12/site-packages (from python-dateutil>=2.8.2->pandas) (1.17.0)\r\n",
      "\r\n",
      "\u001B[1m[\u001B[0m\u001B[34;49mnotice\u001B[0m\u001B[1;39;49m]\u001B[0m\u001B[39;49m A new release of pip is available: \u001B[0m\u001B[31;49m23.2.1\u001B[0m\u001B[39;49m -> \u001B[0m\u001B[32;49m25.1.1\u001B[0m\r\n",
      "\u001B[1m[\u001B[0m\u001B[34;49mnotice\u001B[0m\u001B[1;39;49m]\u001B[0m\u001B[39;49m To update, run: \u001B[0m\u001B[32;49mpip install --upgrade pip\u001B[0m\r\n"
     ]
    }
   ],
   "execution_count": 3
  },
  {
   "metadata": {
    "ExecuteTime": {
     "end_time": "2025-07-14T15:32:15.371554Z",
     "start_time": "2025-07-14T15:32:15.232693Z"
    }
   },
   "cell_type": "code",
   "source": [
    "import pandas as pd\n",
    "\n",
    "test_cases_data = [\n",
    "    {\n",
    "        \"Test_Case_ID\": \"TC1\",\n",
    "        \"Title\": \"Logged-in user completes checkout with valid credit card\",\n",
    "        \"Steps\": \"1. Navigate to product page and add an in-stock item to the cart\\n2. Proceed to checkout\\n3. Confirm shipping address and choose standard delivery\\n4. Select “Credit Card” as payment method\\n5. Enter valid credit card details (e.g., Visa ending in 4242)\\n6. Submit order\",\n",
    "        \"Expected_Result\": \"Order is successfully placed. Confirmation page is displayed with order number and summary. Confirmation email is triggered. Payment transaction is logged in backend.\",\n",
    "        \"Full_Text\": \"Title: Logged-in user completes checkout with valid credit card\\nSteps: 1. Navigate to product page and add an in-stock item to the cart\\n2. Proceed to checkout\\n3. Confirm shipping address and choose standard delivery\\n4. Select “Credit Card” as payment method\\n5. Enter valid credit card details (e.g., Visa ending in 4242)\\n6. Submit order\\nExpected Result: Order is successfully placed. Confirmation page is displayed with order number and summary. Confirmation email is triggered. Payment transaction is logged in backend.\"\n",
    "    },\n",
    "    {\n",
    "        \"Test_Case_ID\": \"TC2\",\n",
    "        \"Title\": \"Server returns 500 error during final checkout submission\",\n",
    "        \"Steps\": \"1. Add product to cart and proceed to checkout\\n2. Fill in valid shipping and payment details\\n3. Submit order (API returns HTTP 500 at this step)\",\n",
    "        \"Expected_Result\": \"Frontend displays generic error message: 'Something went wrong, please try again'. No charge is made to the card. No order is created in the system. Option to retry is presented.\",\n",
    "        \"Full_Text\": \"Title: Server returns 500 error during final checkout submission\\nSteps: 1. Add product to cart and proceed to checkout\\n2. Fill in valid shipping and payment details\\n3. Submit order (API returns HTTP 500 at this step)\\nExpected Result: Frontend displays generic error message: 'Something went wrong, please try again'. No charge is made to the card. No order is created in the system. Option to retry is presented.\"\n",
    "    },\n",
    "    {\n",
    "        \"Test_Case_ID\": \"TC3\",\n",
    "        \"Title\": \"Guest user completes order without creating an account\",\n",
    "        \"Steps\": \"1. Add product to cart\\n2. Choose 'Checkout as Guest'\\n3. Enter shipping and payment details\\n4. Submit order\",\n",
    "        \"Expected_Result\": \"Order confirmation page is displayed. Guest receives confirmation email. No user account is created.\",\n",
    "        \"Full_Text\": \"Title: Guest user completes order without creating an account\\nSteps: 1. Add product to cart\\n2. Choose 'Checkout as Guest'\\n3. Enter shipping and payment details\\n4. Submit order\\nExpected Result: Order confirmation page is displayed. Guest receives confirmation email. No user account is created.\"\n",
    "    },\n",
    "    {\n",
    "        \"Test_Case_ID\": \"TC4\",\n",
    "        \"Title\": \"Reject invalid credit card entry\",\n",
    "        \"Steps\": \"1. Add item to cart and proceed to checkout\\n2. Enter a clearly invalid credit card number (e.g., 0000 0000 0000 0000)\\n3. Attempt to submit order\",\n",
    "        \"Expected_Result\": \"User sees an inline validation error. Cannot proceed until valid card is entered.\",\n",
    "        \"Full_Text\": \"Title: Reject invalid credit card entry\\nSteps: 1. Add item to cart and proceed to checkout\\n2. Enter a clearly invalid credit card number (e.g., 0000 0000 0000 0000)\\n3. Attempt to submit order\\nExpected Result: User sees an inline validation error. Cannot proceed until valid card is entered.\"\n",
    "    },\n",
    "    {\n",
    "        \"Test_Case_ID\": \"TC5\",\n",
    "        \"Title\": \"Handle inventory mismatch during order submission\",\n",
    "        \"Steps\": \"1. Add a low-stock item (only 1 left) to cart\\n2. Another user purchases the item in the meantime\\n3. Attempt to complete checkout\",\n",
    "        \"Expected_Result\": \"Error message 'Item no longer available' is displayed. User is returned to cart to revise order. No payment is processed.\",\n",
    "        \"Full_Text\": \"Title: Handle inventory mismatch during order submission\\nSteps: 1. Add a low-stock item (only 1 left) to cart\\n2. Another user purchases the item in the meantime\\n3. Attempt to complete checkout\\nExpected Result: Error message 'Item no longer available' is displayed. User is returned to cart to revise order. No payment is processed.\"\n",
    "    },\n",
    "    {\n",
    "        \"Test_Case_ID\": \"TC6\",\n",
    "        \"Title\": \"Expired promo code rejected at checkout\",\n",
    "        \"Steps\": \"1. Add product to cart\\n2. Enter expired promo code (e.g., SALE2020)\\n3. Click 'Apply'\",\n",
    "        \"Expected_Result\": \"Message: 'Discount code expired'. No discount applied.\",\n",
    "        \"Full_Text\": \"Title: Expired promo code rejected at checkout\\nSteps: 1. Add product to cart\\n2. Enter expired promo code (e.g., SALE2020)\\n3. Click 'Apply'\\nExpected Result: Message: 'Discount code expired'. No discount applied.\"\n",
    "    },\n",
    "    {\n",
    "        \"Test_Case_ID\": \"TC7\",\n",
    "        \"Title\": \"User exits checkout before entering payment\",\n",
    "        \"Steps\": \"1. Add item to cart\\n2. Begin checkout\\n3. Navigate away before reaching payment\",\n",
    "        \"Expected_Result\": \"No order placed. Cart remains unchanged.\",\n",
    "        \"Full_Text\": \"Title: User exits checkout before entering payment\\nSteps: 1. Add item to cart\\n2. Begin checkout\\n3. Navigate away before reaching payment\\nExpected Result: No order placed. Cart remains unchanged.\"\n",
    "    },\n",
    "    {\n",
    "        \"Test_Case_ID\": \"TC8\",\n",
    "        \"Title\": \"Valid discount code applies correctly\",\n",
    "        \"Steps\": \"1. Add item to cart\\n2. Apply valid discount code\",\n",
    "        \"Expected_Result\": \"Discount applied to total.\",\n",
    "        \"Full_Text\": \"Title: Valid discount code applies correctly\\nSteps: 1. Add item to cart\\n2. Apply valid discount code\\nExpected Result: Discount applied to total.\"\n",
    "    },\n",
    "    {\n",
    "        \"Test_Case_ID\": \"TC9\",\n",
    "        \"Title\": \"Successful PayPal checkout\",\n",
    "        \"Steps\": \"1. Add item to cart\\n2. Select PayPal and authenticate\\n3. Return and confirm order\",\n",
    "        \"Expected_Result\": \"Order placed via PayPal.\",\n",
    "        \"Full_Text\": \"Title: Successful PayPal checkout\\nSteps: 1. Add item to cart\\n2. Select PayPal and authenticate\\n3. Return and confirm order\\nExpected Result: Order placed via PayPal.\"\n",
    "    },\n",
    "    {\n",
    "        \"Test_Case_ID\": \"TC10\",\n",
    "        \"Title\": \"Form validation prevents checkout with missing address\",\n",
    "        \"Steps\": \"1. Start checkout\\n2. Leave required address fields empty\\n3. Try to proceed\",\n",
    "        \"Expected_Result\": \"User is prompted to complete form.\",\n",
    "        \"Full_Text\": \"Title: Form validation prevents checkout with missing address\\nSteps: 1. Start checkout\\n2. Leave required address fields empty\\n3. Try to proceed\\nExpected Result: User is prompted to complete form.\"\n",
    "    }\n",
    "]\n",
    "\n",
    "test_cases_data = pd.DataFrame(test_cases_data)\n",
    "\n",
    "test_cases_data.to_csv(\"test_cases.csv\", index=False)"
   ],
   "id": "1aefe484c8e9c6a7",
   "outputs": [],
   "execution_count": 22
  },
  {
   "metadata": {
    "ExecuteTime": {
     "end_time": "2025-07-14T15:32:16.741773Z",
     "start_time": "2025-07-14T15:32:16.698932Z"
    }
   },
   "cell_type": "code",
   "source": "test_cases_data = pd.read_csv(\"test_cases.csv\")",
   "id": "9470b24134471839",
   "outputs": [],
   "execution_count": 23
  },
  {
   "metadata": {
    "ExecuteTime": {
     "end_time": "2025-07-14T15:32:22.049568Z",
     "start_time": "2025-07-14T15:32:22.025853Z"
    }
   },
   "cell_type": "code",
   "source": "test_cases_data.head(1)",
   "id": "8bc7e1bf7e7daf8c",
   "outputs": [
    {
     "data": {
      "text/plain": [
       "  Test_Case_ID                                              Title  \\\n",
       "0          TC1  Logged-in user completes checkout with valid c...   \n",
       "\n",
       "                                               Steps  \\\n",
       "0  1. Navigate to product page and add an in-stoc...   \n",
       "\n",
       "                                     Expected_Result  \\\n",
       "0  Order is successfully placed. Confirmation pag...   \n",
       "\n",
       "                                           Full_Text  \n",
       "0  Title: Logged-in user completes checkout with ...  "
      ],
      "text/html": [
       "<div>\n",
       "<style scoped>\n",
       "    .dataframe tbody tr th:only-of-type {\n",
       "        vertical-align: middle;\n",
       "    }\n",
       "\n",
       "    .dataframe tbody tr th {\n",
       "        vertical-align: top;\n",
       "    }\n",
       "\n",
       "    .dataframe thead th {\n",
       "        text-align: right;\n",
       "    }\n",
       "</style>\n",
       "<table border=\"1\" class=\"dataframe\">\n",
       "  <thead>\n",
       "    <tr style=\"text-align: right;\">\n",
       "      <th></th>\n",
       "      <th>Test_Case_ID</th>\n",
       "      <th>Title</th>\n",
       "      <th>Steps</th>\n",
       "      <th>Expected_Result</th>\n",
       "      <th>Full_Text</th>\n",
       "    </tr>\n",
       "  </thead>\n",
       "  <tbody>\n",
       "    <tr>\n",
       "      <th>0</th>\n",
       "      <td>TC1</td>\n",
       "      <td>Logged-in user completes checkout with valid c...</td>\n",
       "      <td>1. Navigate to product page and add an in-stoc...</td>\n",
       "      <td>Order is successfully placed. Confirmation pag...</td>\n",
       "      <td>Title: Logged-in user completes checkout with ...</td>\n",
       "    </tr>\n",
       "  </tbody>\n",
       "</table>\n",
       "</div>"
      ]
     },
     "execution_count": 24,
     "metadata": {},
     "output_type": "execute_result"
    }
   ],
   "execution_count": 24
  },
  {
   "metadata": {
    "ExecuteTime": {
     "end_time": "2025-07-14T14:31:37.388367Z",
     "start_time": "2025-07-14T14:31:37.372239Z"
    }
   },
   "cell_type": "code",
   "source": [
    "import pandas as pd\n",
    "\n",
    "prompts = [\n",
    "    {\n",
    "        \"prompt\" : \"Write test cases for checking out with a saved credit card as a logged-in user.\"\n",
    "    },\n",
    "    {\n",
    "       \"prompt\" : \"Generate test cases for scenarios involving invalid payment methods during checkout.\"\n",
    "    },\n",
    "    {\n",
    "       \"prompt\" : \"Create test cases for handling server/API errors during checkout (e.g., 500 Internal Server Error on order submission, timeout during payment gateway call). Include edge case logic and how the frontend should respond. Format as Title, Steps, Expected Result, with detailed technical coverage.\"\n",
    "    }\n",
    "]\n",
    "\n",
    "prompts = pd.DataFrame(prompts)\n",
    "\n",
    "prompts.to_csv(\"prompts.csv\", index=False)"
   ],
   "id": "f4b1c2b393e81e9a",
   "outputs": [],
   "execution_count": 18
  },
  {
   "metadata": {
    "ExecuteTime": {
     "end_time": "2025-07-14T14:31:39.101328Z",
     "start_time": "2025-07-14T14:31:39.084121Z"
    }
   },
   "cell_type": "code",
   "source": "prompts = pd.read_csv(\"prompts.csv\")",
   "id": "f21a2f815e5039d1",
   "outputs": [],
   "execution_count": 19
  },
  {
   "metadata": {
    "ExecuteTime": {
     "end_time": "2025-07-14T14:31:40.052339Z",
     "start_time": "2025-07-14T14:31:40.029600Z"
    }
   },
   "cell_type": "code",
   "source": "prompts.head(1)",
   "id": "53e35edccdfdc0f9",
   "outputs": [
    {
     "data": {
      "text/plain": [
       "                                              prompt\n",
       "0  Write test cases for checking out with a saved..."
      ],
      "text/html": [
       "<div>\n",
       "<style scoped>\n",
       "    .dataframe tbody tr th:only-of-type {\n",
       "        vertical-align: middle;\n",
       "    }\n",
       "\n",
       "    .dataframe tbody tr th {\n",
       "        vertical-align: top;\n",
       "    }\n",
       "\n",
       "    .dataframe thead th {\n",
       "        text-align: right;\n",
       "    }\n",
       "</style>\n",
       "<table border=\"1\" class=\"dataframe\">\n",
       "  <thead>\n",
       "    <tr style=\"text-align: right;\">\n",
       "      <th></th>\n",
       "      <th>prompt</th>\n",
       "    </tr>\n",
       "  </thead>\n",
       "  <tbody>\n",
       "    <tr>\n",
       "      <th>0</th>\n",
       "      <td>Write test cases for checking out with a saved...</td>\n",
       "    </tr>\n",
       "  </tbody>\n",
       "</table>\n",
       "</div>"
      ]
     },
     "execution_count": 20,
     "metadata": {},
     "output_type": "execute_result"
    }
   ],
   "execution_count": 20
  },
  {
   "metadata": {
    "ExecuteTime": {
     "end_time": "2025-07-14T14:17:18.387153Z",
     "start_time": "2025-07-14T14:09:53.323803Z"
    }
   },
   "cell_type": "code",
   "source": "!pip install numpy scikit-learn faiss-cpu transformers",
   "id": "3765f2140e969898",
   "outputs": [
    {
     "name": "stdout",
     "output_type": "stream",
     "text": [
      "Requirement already satisfied: numpy in ./.venv/lib/python3.12/site-packages (2.3.1)\r\n",
      "Collecting scikit-learn\r\n",
      "  Obtaining dependency information for scikit-learn from https://files.pythonhosted.org/packages/08/17/804cc13b22a8663564bb0b55fb89e661a577e4e88a61a39740d58b909efe/scikit_learn-1.7.0-cp312-cp312-manylinux_2_17_x86_64.manylinux2014_x86_64.whl.metadata\r\n",
      "  Using cached scikit_learn-1.7.0-cp312-cp312-manylinux_2_17_x86_64.manylinux2014_x86_64.whl.metadata (17 kB)\r\n",
      "Collecting faiss-cpu\r\n",
      "  Obtaining dependency information for faiss-cpu from https://files.pythonhosted.org/packages/7f/37/eaf15a7d80e1aad74f56cf737b31b4547a1a664ad3c6e4cfaf90e82454a8/faiss_cpu-1.11.0-cp312-cp312-manylinux_2_28_x86_64.whl.metadata\r\n",
      "  Downloading faiss_cpu-1.11.0-cp312-cp312-manylinux_2_28_x86_64.whl.metadata (4.8 kB)\r\n",
      "Collecting transformers\r\n",
      "  Obtaining dependency information for transformers from https://files.pythonhosted.org/packages/96/88/beb33a79a382fcd2aed0be5222bdc47f41e4bfe7aaa90ae1374f1d8ea2af/transformers-4.53.2-py3-none-any.whl.metadata\r\n",
      "  Using cached transformers-4.53.2-py3-none-any.whl.metadata (40 kB)\r\n",
      "Collecting scipy>=1.8.0 (from scikit-learn)\r\n",
      "  Obtaining dependency information for scipy>=1.8.0 from https://files.pythonhosted.org/packages/6d/f0/b6ac354a956384fd8abee2debbb624648125b298f2c4a7b4f0d6248048a5/scipy-1.16.0-cp312-cp312-manylinux2014_x86_64.manylinux_2_17_x86_64.whl.metadata\r\n",
      "  Using cached scipy-1.16.0-cp312-cp312-manylinux2014_x86_64.manylinux_2_17_x86_64.whl.metadata (61 kB)\r\n",
      "Collecting joblib>=1.2.0 (from scikit-learn)\r\n",
      "  Obtaining dependency information for joblib>=1.2.0 from https://files.pythonhosted.org/packages/7d/4f/1195bbac8e0c2acc5f740661631d8d750dc38d4a32b23ee5df3cde6f4e0d/joblib-1.5.1-py3-none-any.whl.metadata\r\n",
      "  Using cached joblib-1.5.1-py3-none-any.whl.metadata (5.6 kB)\r\n",
      "Collecting threadpoolctl>=3.1.0 (from scikit-learn)\r\n",
      "  Obtaining dependency information for threadpoolctl>=3.1.0 from https://files.pythonhosted.org/packages/32/d5/f9a850d79b0851d1d4ef6456097579a9005b31fea68726a4ae5f2d82ddd9/threadpoolctl-3.6.0-py3-none-any.whl.metadata\r\n",
      "  Using cached threadpoolctl-3.6.0-py3-none-any.whl.metadata (13 kB)\r\n",
      "Requirement already satisfied: packaging in ./.venv/lib/python3.12/site-packages (from faiss-cpu) (25.0)\r\n",
      "Collecting filelock (from transformers)\r\n",
      "  Obtaining dependency information for filelock from https://files.pythonhosted.org/packages/4d/36/2a115987e2d8c300a974597416d9de88f2444426de9571f4b59b2cca3acc/filelock-3.18.0-py3-none-any.whl.metadata\r\n",
      "  Using cached filelock-3.18.0-py3-none-any.whl.metadata (2.9 kB)\r\n",
      "Collecting huggingface-hub<1.0,>=0.30.0 (from transformers)\r\n",
      "  Obtaining dependency information for huggingface-hub<1.0,>=0.30.0 from https://files.pythonhosted.org/packages/46/7b/98daa50a2db034cab6cd23a3de04fa2358cb691593d28e9130203eb7a805/huggingface_hub-0.33.4-py3-none-any.whl.metadata\r\n",
      "  Using cached huggingface_hub-0.33.4-py3-none-any.whl.metadata (14 kB)\r\n",
      "Requirement already satisfied: pyyaml>=5.1 in ./.venv/lib/python3.12/site-packages (from transformers) (6.0.2)\r\n",
      "Collecting regex!=2019.12.17 (from transformers)\r\n",
      "  Obtaining dependency information for regex!=2019.12.17 from https://files.pythonhosted.org/packages/fb/13/e3b075031a738c9598c51cfbc4c7879e26729c53aa9cca59211c44235314/regex-2024.11.6-cp312-cp312-manylinux_2_17_x86_64.manylinux2014_x86_64.whl.metadata\r\n",
      "  Using cached regex-2024.11.6-cp312-cp312-manylinux_2_17_x86_64.manylinux2014_x86_64.whl.metadata (40 kB)\r\n",
      "Requirement already satisfied: requests in ./.venv/lib/python3.12/site-packages (from transformers) (2.32.4)\r\n",
      "Collecting tokenizers<0.22,>=0.21 (from transformers)\r\n",
      "  Obtaining dependency information for tokenizers<0.22,>=0.21 from https://files.pythonhosted.org/packages/c5/74/f41a432a0733f61f3d21b288de6dfa78f7acff309c6f0f323b2833e9189f/tokenizers-0.21.2-cp39-abi3-manylinux_2_17_x86_64.manylinux2014_x86_64.whl.metadata\r\n",
      "  Using cached tokenizers-0.21.2-cp39-abi3-manylinux_2_17_x86_64.manylinux2014_x86_64.whl.metadata (6.8 kB)\r\n",
      "Collecting safetensors>=0.4.3 (from transformers)\r\n",
      "  Obtaining dependency information for safetensors>=0.4.3 from https://files.pythonhosted.org/packages/a6/f8/dae3421624fcc87a89d42e1898a798bc7ff72c61f38973a65d60df8f124c/safetensors-0.5.3-cp38-abi3-manylinux_2_17_x86_64.manylinux2014_x86_64.whl.metadata\r\n",
      "  Using cached safetensors-0.5.3-cp38-abi3-manylinux_2_17_x86_64.manylinux2014_x86_64.whl.metadata (3.8 kB)\r\n",
      "Collecting tqdm>=4.27 (from transformers)\r\n",
      "  Obtaining dependency information for tqdm>=4.27 from https://files.pythonhosted.org/packages/d0/30/dc54f88dd4a2b5dc8a0279bdd7270e735851848b762aeb1c1184ed1f6b14/tqdm-4.67.1-py3-none-any.whl.metadata\r\n",
      "  Using cached tqdm-4.67.1-py3-none-any.whl.metadata (57 kB)\r\n",
      "Collecting fsspec>=2023.5.0 (from huggingface-hub<1.0,>=0.30.0->transformers)\r\n",
      "  Obtaining dependency information for fsspec>=2023.5.0 from https://files.pythonhosted.org/packages/bb/61/78c7b3851add1481b048b5fdc29067397a1784e2910592bc81bb3f608635/fsspec-2025.5.1-py3-none-any.whl.metadata\r\n",
      "  Using cached fsspec-2025.5.1-py3-none-any.whl.metadata (11 kB)\r\n",
      "Requirement already satisfied: typing-extensions>=3.7.4.3 in ./.venv/lib/python3.12/site-packages (from huggingface-hub<1.0,>=0.30.0->transformers) (4.14.1)\r\n",
      "Collecting hf-xet<2.0.0,>=1.1.2 (from huggingface-hub<1.0,>=0.30.0->transformers)\r\n",
      "  Obtaining dependency information for hf-xet<2.0.0,>=1.1.2 from https://files.pythonhosted.org/packages/6d/2f/6cad7b5fe86b7652579346cb7f85156c11761df26435651cbba89376cd2c/hf_xet-1.1.5-cp37-abi3-manylinux_2_17_x86_64.manylinux2014_x86_64.whl.metadata\r\n",
      "  Using cached hf_xet-1.1.5-cp37-abi3-manylinux_2_17_x86_64.manylinux2014_x86_64.whl.metadata (879 bytes)\r\n",
      "Requirement already satisfied: charset_normalizer<4,>=2 in ./.venv/lib/python3.12/site-packages (from requests->transformers) (3.4.2)\r\n",
      "Requirement already satisfied: idna<4,>=2.5 in ./.venv/lib/python3.12/site-packages (from requests->transformers) (3.10)\r\n",
      "Requirement already satisfied: urllib3<3,>=1.21.1 in ./.venv/lib/python3.12/site-packages (from requests->transformers) (2.5.0)\r\n",
      "Requirement already satisfied: certifi>=2017.4.17 in ./.venv/lib/python3.12/site-packages (from requests->transformers) (2025.7.14)\r\n",
      "\u001B[33mWARNING: Retrying (Retry(total=4, connect=None, read=None, redirect=None, status=None)) after connection broken by 'ProtocolError('Connection aborted.', RemoteDisconnected('Remote end closed connection without response'))': /packages/08/17/804cc13b22a8663564bb0b55fb89e661a577e4e88a61a39740d58b909efe/scikit_learn-1.7.0-cp312-cp312-manylinux_2_17_x86_64.manylinux2014_x86_64.whl\u001B[0m\u001B[33m\r\n",
      "\u001B[0mDownloading scikit_learn-1.7.0-cp312-cp312-manylinux_2_17_x86_64.manylinux2014_x86_64.whl (12.5 MB)\r\n",
      "\u001B[2K   \u001B[38;2;114;156;31m━━━━━━━━━━━━━━━━━━━━━━━━━━━━━━━━━━━━━━━━\u001B[0m \u001B[32m12.5/12.5 MB\u001B[0m \u001B[31m539.5 kB/s\u001B[0m eta \u001B[36m0:00:00\u001B[0mm eta \u001B[36m0:00:01\u001B[0m[36m0:00:01\u001B[0m\r\n",
      "\u001B[?25hDownloading faiss_cpu-1.11.0-cp312-cp312-manylinux_2_28_x86_64.whl (31.3 MB)\r\n",
      "\u001B[2K   \u001B[38;2;114;156;31m━━━━━━━━━━━━━━━━━━━━━━━━━━━━━━━━━━━━━━━━\u001B[0m \u001B[32m31.3/31.3 MB\u001B[0m \u001B[31m426.3 kB/s\u001B[0m eta \u001B[36m0:00:00\u001B[0mm eta \u001B[36m0:00:01\u001B[0m[36m0:00:02\u001B[0m\r\n",
      "\u001B[?25hDownloading transformers-4.53.2-py3-none-any.whl (10.8 MB)\r\n",
      "\u001B[2K   \u001B[38;2;114;156;31m━━━━━━━━━━━━━━━━━━━━━━━━━━━━━━━━━━━━━━━━\u001B[0m \u001B[32m10.8/10.8 MB\u001B[0m \u001B[31m213.3 kB/s\u001B[0m eta \u001B[36m0:00:00\u001B[0mm eta \u001B[36m0:00:01\u001B[0m[36m0:00:02\u001B[0m\r\n",
      "\u001B[?25hUsing cached huggingface_hub-0.33.4-py3-none-any.whl (515 kB)\r\n",
      "Downloading joblib-1.5.1-py3-none-any.whl (307 kB)\r\n",
      "\u001B[2K   \u001B[38;2;114;156;31m━━━━━━━━━━━━━━━━━━━━━━━━━━━━━━━━━━━━━━━━\u001B[0m \u001B[32m307.7/307.7 kB\u001B[0m \u001B[31m1.1 MB/s\u001B[0m eta \u001B[36m0:00:00\u001B[0m MB/s\u001B[0m eta \u001B[36m0:00:01\u001B[0m:01\u001B[0mm\r\n",
      "\u001B[?25hUsing cached regex-2024.11.6-cp312-cp312-manylinux_2_17_x86_64.manylinux2014_x86_64.whl (796 kB)\r\n",
      "Downloading safetensors-0.5.3-cp38-abi3-manylinux_2_17_x86_64.manylinux2014_x86_64.whl (471 kB)\r\n",
      "\u001B[2K   \u001B[38;2;114;156;31m━━━━━━━━━━━━━━━━━━━━━━━━━━━━━━━━━━━━━━━━\u001B[0m \u001B[32m471.6/471.6 kB\u001B[0m \u001B[31m1.2 MB/s\u001B[0m eta \u001B[36m0:00:00\u001B[0m MB/s\u001B[0m eta \u001B[36m0:00:01\u001B[0m:01\u001B[0m\r\n",
      "\u001B[?25hDownloading scipy-1.16.0-cp312-cp312-manylinux2014_x86_64.manylinux_2_17_x86_64.whl (35.1 MB)\r\n",
      "\u001B[2K   \u001B[38;2;114;156;31m━━━━━━━━━━━━━━━━━━━━━━━━━━━━━━━━━━━━━━━━\u001B[0m \u001B[32m35.1/35.1 MB\u001B[0m \u001B[31m910.1 kB/s\u001B[0m eta \u001B[36m0:00:00\u001B[0mm eta \u001B[36m0:00:01\u001B[0m[36m0:00:01\u001B[0m\r\n",
      "\u001B[?25hDownloading threadpoolctl-3.6.0-py3-none-any.whl (18 kB)\r\n",
      "Downloading tokenizers-0.21.2-cp39-abi3-manylinux_2_17_x86_64.manylinux2014_x86_64.whl (3.1 MB)\r\n",
      "\u001B[2K   \u001B[38;2;114;156;31m━━━━━━━━━━━━━━━━━━━━━━━━━━━━━━━━━━━━━━━━\u001B[0m \u001B[32m3.1/3.1 MB\u001B[0m \u001B[31m976.9 kB/s\u001B[0m eta \u001B[36m0:00:00\u001B[0mm eta \u001B[36m0:00:01\u001B[0m[36m0:00:01\u001B[0m\r\n",
      "\u001B[?25hUsing cached tqdm-4.67.1-py3-none-any.whl (78 kB)\r\n",
      "Downloading filelock-3.18.0-py3-none-any.whl (16 kB)\r\n",
      "Downloading fsspec-2025.5.1-py3-none-any.whl (199 kB)\r\n",
      "\u001B[2K   \u001B[38;2;114;156;31m━━━━━━━━━━━━━━━━━━━━━━━━━━━━━━━━━━━━━━━━\u001B[0m \u001B[32m199.1/199.1 kB\u001B[0m \u001B[31m2.3 MB/s\u001B[0m eta \u001B[36m0:00:00\u001B[0m[36m0:00:01\u001B[0mm eta \u001B[36m0:00:01\u001B[0m\r\n",
      "\u001B[?25hDownloading hf_xet-1.1.5-cp37-abi3-manylinux_2_17_x86_64.manylinux2014_x86_64.whl (3.1 MB)\r\n",
      "\u001B[2K   \u001B[38;2;114;156;31m━━━━━━━━━━━━━━━━━━━━━━━━━━━━━━━━━━━━━━━━\u001B[0m \u001B[32m3.1/3.1 MB\u001B[0m \u001B[31m1.0 MB/s\u001B[0m eta \u001B[36m0:00:00\u001B[0m[36m0:00:01\u001B[0m \u001B[36m0:00:01\u001B[0m:01\u001B[0m\r\n",
      "\u001B[?25hInstalling collected packages: tqdm, threadpoolctl, scipy, safetensors, regex, joblib, hf-xet, fsspec, filelock, faiss-cpu, scikit-learn, huggingface-hub, tokenizers, transformers\r\n",
      "Successfully installed faiss-cpu-1.11.0 filelock-3.18.0 fsspec-2025.5.1 hf-xet-1.1.5 huggingface-hub-0.33.4 joblib-1.5.1 regex-2024.11.6 safetensors-0.5.3 scikit-learn-1.7.0 scipy-1.16.0 threadpoolctl-3.6.0 tokenizers-0.21.2 tqdm-4.67.1 transformers-4.53.2\r\n",
      "\r\n",
      "\u001B[1m[\u001B[0m\u001B[34;49mnotice\u001B[0m\u001B[1;39;49m]\u001B[0m\u001B[39;49m A new release of pip is available: \u001B[0m\u001B[31;49m23.2.1\u001B[0m\u001B[39;49m -> \u001B[0m\u001B[32;49m25.1.1\u001B[0m\r\n",
      "\u001B[1m[\u001B[0m\u001B[34;49mnotice\u001B[0m\u001B[1;39;49m]\u001B[0m\u001B[39;49m To update, run: \u001B[0m\u001B[32;49mpip install --upgrade pip\u001B[0m\r\n"
     ]
    }
   ],
   "execution_count": 7
  },
  {
   "metadata": {
    "ExecuteTime": {
     "end_time": "2025-07-14T14:33:31.393726Z",
     "start_time": "2025-07-14T14:32:26.101552Z"
    }
   },
   "cell_type": "code",
   "source": "!pip install nltk spacy",
   "id": "6b14246e7ce922bf",
   "outputs": [
    {
     "name": "stdout",
     "output_type": "stream",
     "text": [
      "Collecting nltk\r\n",
      "  Using cached nltk-3.9.1-py3-none-any.whl.metadata (2.9 kB)\r\n",
      "Collecting spacy\r\n",
      "  Using cached spacy-3.8.7-cp312-cp312-manylinux_2_17_x86_64.manylinux2014_x86_64.whl.metadata (27 kB)\r\n",
      "Collecting click (from nltk)\r\n",
      "  Using cached click-8.2.1-py3-none-any.whl.metadata (2.5 kB)\r\n",
      "Requirement already satisfied: joblib in ./.venv/lib/python3.12/site-packages (from nltk) (1.5.1)\r\n",
      "Requirement already satisfied: regex>=2021.8.3 in ./.venv/lib/python3.12/site-packages (from nltk) (2024.11.6)\r\n",
      "Requirement already satisfied: tqdm in ./.venv/lib/python3.12/site-packages (from nltk) (4.67.1)\r\n",
      "Collecting spacy-legacy<3.1.0,>=3.0.11 (from spacy)\r\n",
      "  Using cached spacy_legacy-3.0.12-py2.py3-none-any.whl.metadata (2.8 kB)\r\n",
      "Collecting spacy-loggers<2.0.0,>=1.0.0 (from spacy)\r\n",
      "  Using cached spacy_loggers-1.0.5-py3-none-any.whl.metadata (23 kB)\r\n",
      "Collecting murmurhash<1.1.0,>=0.28.0 (from spacy)\r\n",
      "  Using cached murmurhash-1.0.13-cp312-cp312-manylinux_2_5_x86_64.manylinux1_x86_64.manylinux_2_17_x86_64.manylinux2014_x86_64.whl.metadata (2.2 kB)\r\n",
      "Collecting cymem<2.1.0,>=2.0.2 (from spacy)\r\n",
      "  Using cached cymem-2.0.11-cp312-cp312-manylinux_2_17_x86_64.manylinux2014_x86_64.whl.metadata (8.5 kB)\r\n",
      "Collecting preshed<3.1.0,>=3.0.2 (from spacy)\r\n",
      "  Using cached preshed-3.0.10-cp312-cp312-manylinux_2_5_x86_64.manylinux1_x86_64.manylinux_2_17_x86_64.manylinux2014_x86_64.whl.metadata (2.4 kB)\r\n",
      "Collecting thinc<8.4.0,>=8.3.4 (from spacy)\r\n",
      "  Using cached thinc-8.3.6-cp312-cp312-manylinux_2_17_x86_64.manylinux2014_x86_64.whl.metadata (15 kB)\r\n",
      "Collecting wasabi<1.2.0,>=0.9.1 (from spacy)\r\n",
      "  Using cached wasabi-1.1.3-py3-none-any.whl.metadata (28 kB)\r\n",
      "Collecting srsly<3.0.0,>=2.4.3 (from spacy)\r\n",
      "  Using cached srsly-2.5.1-cp312-cp312-manylinux_2_17_x86_64.manylinux2014_x86_64.whl.metadata (19 kB)\r\n",
      "Collecting catalogue<2.1.0,>=2.0.6 (from spacy)\r\n",
      "  Using cached catalogue-2.0.10-py3-none-any.whl.metadata (14 kB)\r\n",
      "Collecting weasel<0.5.0,>=0.1.0 (from spacy)\r\n",
      "  Using cached weasel-0.4.1-py3-none-any.whl.metadata (4.6 kB)\r\n",
      "Collecting typer<1.0.0,>=0.3.0 (from spacy)\r\n",
      "  Using cached typer-0.16.0-py3-none-any.whl.metadata (15 kB)\r\n",
      "Requirement already satisfied: numpy>=1.19.0 in ./.venv/lib/python3.12/site-packages (from spacy) (2.3.1)\r\n",
      "Requirement already satisfied: requests<3.0.0,>=2.13.0 in ./.venv/lib/python3.12/site-packages (from spacy) (2.32.4)\r\n",
      "Collecting pydantic!=1.8,!=1.8.1,<3.0.0,>=1.7.4 (from spacy)\r\n",
      "  Using cached pydantic-2.11.7-py3-none-any.whl.metadata (67 kB)\r\n",
      "Requirement already satisfied: jinja2 in ./.venv/lib/python3.12/site-packages (from spacy) (3.1.6)\r\n",
      "Requirement already satisfied: setuptools in ./.venv/lib/python3.12/site-packages (from spacy) (80.9.0)\r\n",
      "Requirement already satisfied: packaging>=20.0 in ./.venv/lib/python3.12/site-packages (from spacy) (25.0)\r\n",
      "Collecting langcodes<4.0.0,>=3.2.0 (from spacy)\r\n",
      "  Using cached langcodes-3.5.0-py3-none-any.whl.metadata (29 kB)\r\n",
      "Collecting language-data>=1.2 (from langcodes<4.0.0,>=3.2.0->spacy)\r\n",
      "  Using cached language_data-1.3.0-py3-none-any.whl.metadata (4.3 kB)\r\n",
      "Collecting annotated-types>=0.6.0 (from pydantic!=1.8,!=1.8.1,<3.0.0,>=1.7.4->spacy)\r\n",
      "  Using cached annotated_types-0.7.0-py3-none-any.whl.metadata (15 kB)\r\n",
      "Collecting pydantic-core==2.33.2 (from pydantic!=1.8,!=1.8.1,<3.0.0,>=1.7.4->spacy)\r\n",
      "  Using cached pydantic_core-2.33.2-cp312-cp312-manylinux_2_17_x86_64.manylinux2014_x86_64.whl.metadata (6.8 kB)\r\n",
      "Requirement already satisfied: typing-extensions>=4.12.2 in ./.venv/lib/python3.12/site-packages (from pydantic!=1.8,!=1.8.1,<3.0.0,>=1.7.4->spacy) (4.14.1)\r\n",
      "Collecting typing-inspection>=0.4.0 (from pydantic!=1.8,!=1.8.1,<3.0.0,>=1.7.4->spacy)\r\n",
      "  Using cached typing_inspection-0.4.1-py3-none-any.whl.metadata (2.6 kB)\r\n",
      "Requirement already satisfied: charset_normalizer<4,>=2 in ./.venv/lib/python3.12/site-packages (from requests<3.0.0,>=2.13.0->spacy) (3.4.2)\r\n",
      "Requirement already satisfied: idna<4,>=2.5 in ./.venv/lib/python3.12/site-packages (from requests<3.0.0,>=2.13.0->spacy) (3.10)\r\n",
      "Requirement already satisfied: urllib3<3,>=1.21.1 in ./.venv/lib/python3.12/site-packages (from requests<3.0.0,>=2.13.0->spacy) (2.5.0)\r\n",
      "Requirement already satisfied: certifi>=2017.4.17 in ./.venv/lib/python3.12/site-packages (from requests<3.0.0,>=2.13.0->spacy) (2025.7.14)\r\n",
      "Collecting blis<1.4.0,>=1.3.0 (from thinc<8.4.0,>=8.3.4->spacy)\r\n",
      "  Using cached blis-1.3.0-cp312-cp312-manylinux_2_17_x86_64.manylinux2014_x86_64.whl.metadata (7.4 kB)\r\n",
      "Collecting confection<1.0.0,>=0.0.1 (from thinc<8.4.0,>=8.3.4->spacy)\r\n",
      "  Using cached confection-0.1.5-py3-none-any.whl.metadata (19 kB)\r\n",
      "Collecting shellingham>=1.3.0 (from typer<1.0.0,>=0.3.0->spacy)\r\n",
      "  Using cached shellingham-1.5.4-py2.py3-none-any.whl.metadata (3.5 kB)\r\n",
      "Collecting rich>=10.11.0 (from typer<1.0.0,>=0.3.0->spacy)\r\n",
      "  Using cached rich-14.0.0-py3-none-any.whl.metadata (18 kB)\r\n",
      "Collecting cloudpathlib<1.0.0,>=0.7.0 (from weasel<0.5.0,>=0.1.0->spacy)\r\n",
      "  Using cached cloudpathlib-0.21.1-py3-none-any.whl.metadata (14 kB)\r\n",
      "Collecting smart-open<8.0.0,>=5.2.1 (from weasel<0.5.0,>=0.1.0->spacy)\r\n",
      "  Using cached smart_open-7.3.0.post1-py3-none-any.whl.metadata (24 kB)\r\n",
      "Collecting wrapt (from smart-open<8.0.0,>=5.2.1->weasel<0.5.0,>=0.1.0->spacy)\r\n",
      "  Using cached wrapt-1.17.2-cp312-cp312-manylinux_2_5_x86_64.manylinux1_x86_64.manylinux_2_17_x86_64.manylinux2014_x86_64.whl.metadata (6.4 kB)\r\n",
      "Collecting marisa-trie>=1.1.0 (from language-data>=1.2->langcodes<4.0.0,>=3.2.0->spacy)\r\n",
      "  Using cached marisa_trie-1.2.1-cp312-cp312-manylinux_2_17_x86_64.manylinux2014_x86_64.whl.metadata (9.0 kB)\r\n",
      "Collecting markdown-it-py>=2.2.0 (from rich>=10.11.0->typer<1.0.0,>=0.3.0->spacy)\r\n",
      "  Using cached markdown_it_py-3.0.0-py3-none-any.whl.metadata (6.9 kB)\r\n",
      "Requirement already satisfied: pygments<3.0.0,>=2.13.0 in ./.venv/lib/python3.12/site-packages (from rich>=10.11.0->typer<1.0.0,>=0.3.0->spacy) (2.19.2)\r\n",
      "Collecting mdurl~=0.1 (from markdown-it-py>=2.2.0->rich>=10.11.0->typer<1.0.0,>=0.3.0->spacy)\r\n",
      "  Using cached mdurl-0.1.2-py3-none-any.whl.metadata (1.6 kB)\r\n",
      "Requirement already satisfied: MarkupSafe>=2.0 in ./.venv/lib/python3.12/site-packages (from jinja2->spacy) (3.0.2)\r\n",
      "Using cached nltk-3.9.1-py3-none-any.whl (1.5 MB)\r\n",
      "Using cached spacy-3.8.7-cp312-cp312-manylinux_2_17_x86_64.manylinux2014_x86_64.whl (33.9 MB)\r\n",
      "Using cached catalogue-2.0.10-py3-none-any.whl (17 kB)\r\n",
      "Using cached cymem-2.0.11-cp312-cp312-manylinux_2_17_x86_64.manylinux2014_x86_64.whl (227 kB)\r\n",
      "Using cached langcodes-3.5.0-py3-none-any.whl (182 kB)\r\n",
      "Using cached murmurhash-1.0.13-cp312-cp312-manylinux_2_5_x86_64.manylinux1_x86_64.manylinux_2_17_x86_64.manylinux2014_x86_64.whl (128 kB)\r\n",
      "Using cached preshed-3.0.10-cp312-cp312-manylinux_2_5_x86_64.manylinux1_x86_64.manylinux_2_17_x86_64.manylinux2014_x86_64.whl (869 kB)\r\n",
      "Using cached pydantic-2.11.7-py3-none-any.whl (444 kB)\r\n",
      "Using cached pydantic_core-2.33.2-cp312-cp312-manylinux_2_17_x86_64.manylinux2014_x86_64.whl (2.0 MB)\r\n",
      "Using cached spacy_legacy-3.0.12-py2.py3-none-any.whl (29 kB)\r\n",
      "Using cached spacy_loggers-1.0.5-py3-none-any.whl (22 kB)\r\n",
      "Using cached srsly-2.5.1-cp312-cp312-manylinux_2_17_x86_64.manylinux2014_x86_64.whl (1.1 MB)\r\n",
      "Using cached thinc-8.3.6-cp312-cp312-manylinux_2_17_x86_64.manylinux2014_x86_64.whl (4.3 MB)\r\n",
      "Using cached blis-1.3.0-cp312-cp312-manylinux_2_17_x86_64.manylinux2014_x86_64.whl (11.6 MB)\r\n",
      "Using cached confection-0.1.5-py3-none-any.whl (35 kB)\r\n",
      "Using cached typer-0.16.0-py3-none-any.whl (46 kB)\r\n",
      "Using cached wasabi-1.1.3-py3-none-any.whl (27 kB)\r\n",
      "Using cached weasel-0.4.1-py3-none-any.whl (50 kB)\r\n",
      "Using cached cloudpathlib-0.21.1-py3-none-any.whl (52 kB)\r\n",
      "Using cached smart_open-7.3.0.post1-py3-none-any.whl (61 kB)\r\n",
      "Using cached annotated_types-0.7.0-py3-none-any.whl (13 kB)\r\n",
      "Using cached click-8.2.1-py3-none-any.whl (102 kB)\r\n",
      "Using cached language_data-1.3.0-py3-none-any.whl (5.4 MB)\r\n",
      "Downloading marisa_trie-1.2.1-cp312-cp312-manylinux_2_17_x86_64.manylinux2014_x86_64.whl (1.4 MB)\r\n",
      "\u001B[2K   \u001B[38;2;114;156;31m━━━━━━━━━━━━━━━━━━━━━━━━━━━━━━━━━━━━━━━━\u001B[0m \u001B[32m1.4/1.4 MB\u001B[0m \u001B[31m239.4 kB/s\u001B[0m eta \u001B[36m0:00:00\u001B[0m1m232.2 kB/s\u001B[0m eta \u001B[36m0:00:01\u001B[0m\r\n",
      "\u001B[?25hDownloading rich-14.0.0-py3-none-any.whl (243 kB)\r\n",
      "Downloading markdown_it_py-3.0.0-py3-none-any.whl (87 kB)\r\n",
      "Downloading mdurl-0.1.2-py3-none-any.whl (10.0 kB)\r\n",
      "Downloading shellingham-1.5.4-py2.py3-none-any.whl (9.8 kB)\r\n",
      "Downloading typing_inspection-0.4.1-py3-none-any.whl (14 kB)\r\n",
      "Downloading wrapt-1.17.2-cp312-cp312-manylinux_2_5_x86_64.manylinux1_x86_64.manylinux_2_17_x86_64.manylinux2014_x86_64.whl (89 kB)\r\n",
      "Installing collected packages: cymem, wrapt, wasabi, typing-inspection, spacy-loggers, spacy-legacy, shellingham, pydantic-core, murmurhash, mdurl, marisa-trie, cloudpathlib, click, catalogue, blis, annotated-types, srsly, smart-open, pydantic, preshed, nltk, markdown-it-py, language-data, rich, langcodes, confection, typer, thinc, weasel, spacy\r\n",
      "\u001B[2K   \u001B[38;2;114;156;31m━━━━━━━━━━━━━━━━━━━━━━━━━━━━━━━━━━━━━━━━\u001B[0m \u001B[32m30/30\u001B[0m [spacy]38;5;237m━\u001B[0m \u001B[32m29/30\u001B[0m [spacy]]]]lib]\r\n",
      "\u001B[1A\u001B[2KSuccessfully installed annotated-types-0.7.0 blis-1.3.0 catalogue-2.0.10 click-8.2.1 cloudpathlib-0.21.1 confection-0.1.5 cymem-2.0.11 langcodes-3.5.0 language-data-1.3.0 marisa-trie-1.2.1 markdown-it-py-3.0.0 mdurl-0.1.2 murmurhash-1.0.13 nltk-3.9.1 preshed-3.0.10 pydantic-2.11.7 pydantic-core-2.33.2 rich-14.0.0 shellingham-1.5.4 smart-open-7.3.0.post1 spacy-3.8.7 spacy-legacy-3.0.12 spacy-loggers-1.0.5 srsly-2.5.1 thinc-8.3.6 typer-0.16.0 typing-inspection-0.4.1 wasabi-1.1.3 weasel-0.4.1 wrapt-1.17.2\r\n"
     ]
    }
   ],
   "execution_count": 21
  },
  {
   "metadata": {
    "ExecuteTime": {
     "end_time": "2025-07-14T16:44:08.069406Z",
     "start_time": "2025-07-14T16:42:17.094476Z"
    }
   },
   "cell_type": "code",
   "source": [
    "import pandas as pd\n",
    "import numpy as np\n",
    "from sentence_transformers import SentenceTransformer\n",
    "import faiss\n",
    "import pickle\n",
    "\n",
    "test_cases_data = pd.read_csv('test_cases.csv')\n",
    "\n",
    "# checking columns\n",
    "print(\"columns of DataFrame:\")\n",
    "print(test_cases_data.columns)\n",
    "\n",
    "# checking Full_Text\n",
    "if 'Full_Text' not in test_cases_data.columns:\n",
    "    def combine_test_case(row):\n",
    "        return f\"Title: {row['Title']}\\nSteps: {row['Steps']}\\nExpected Result: {row['Expected_Result']}\"\n",
    "    test_cases_data['Full_Text'] = test_cases_data.apply(combine_test_case, axis=1)\n",
    "\n",
    "# Loading pre-trained models for embedding\n",
    "model_1 = SentenceTransformer('all-MiniLM-L6-v2')  # a standard model\n",
    "model_2 = SentenceTransformer('paraphrase-MiniLM-L3-v2')  # a lightweight model(we have low data)\n",
    "\n",
    "# generating embedding\n",
    "print(\"all-MiniLM-L6-v2...\")\n",
    "embeddings_1 = model_1.encode(test_cases_data['Full_Text'].tolist(), show_progress_bar=True)\n",
    "\n",
    "\n",
    "print(\"paraphrase-MiniLM-L3-v2...\")\n",
    "embeddings_2 = model_2.encode(test_cases_data['Full_Text'].tolist(), show_progress_bar=True)\n",
    "\n",
    "# Adding embedding to DataFrame and saving\n",
    "test_cases_data['Embedding_MiniLM_L6'] = list(embeddings_1)\n",
    "test_cases_data['Embedding_Paraphrase_L3'] = list(embeddings_2)\n",
    "\n",
    "test_cases_data.to_pickle('test_cases_with_embeddings.pkl')\n",
    "print(\"DataFrame saved: test_cases_with_embeddings.pkl\")\n",
    "\n",
    "# adding embeddings to numpy array for FAISS\n",
    "embeddings_1_np = np.array(embeddings_1, dtype=np.float32)\n",
    "embeddings_2_np = np.array(embeddings_2, dtype=np.float32)\n",
    "\n",
    "# generating FAISS index for the first model (all-MiniLM-L6-v2)\n",
    "dimension_1 = embeddings_1_np.shape[1]  # dimension of the embeddings (usually 384)\n",
    "index_1 = faiss.IndexFlatIP(dimension_1)  # index for cosine similarity\n",
    "faiss.normalize_L2(embeddings_1_np)  # normalization for cosine similarity\n",
    "index_1.add(embeddings_1_np)  # adding embedding\n",
    "print(\"Index FAISS for all-MiniLM-L6-v2 saved: faiss_index_minilm_l6.bin\")\n",
    "\n",
    "# generating FAISS index for the second model (paraphrase-MiniLM-L3-v2)\n",
    "dimension_2 = embeddings_2_np.shape[1]\n",
    "index_2 = faiss.IndexFlatIP(dimension_2)\n",
    "faiss.normalize_L2(embeddings_2_np)\n",
    "index_2.add(embeddings_2_np)\n",
    "faiss.write_index(index_2, 'faiss_index_paraphrase_l3.bin')\n",
    "print(\"Index FAISS for paraphrase-MiniLM-L3-v2 saved: faiss_index_paraphrase_l3.bin\")\n",
    "\n",
    "\n",
    "print(test_cases_data[['Test_Case_ID', 'Title', 'Full_Text', 'Embedding_MiniLM_L6', 'Embedding_Paraphrase_L3']].head(1))\n",
    "\n",
    "print(f\"all-MiniLM-L6-v2: {len(embeddings_1[0])}  Dimentions\")\n",
    "print(f\"paraphrase-MiniLM-L3-v2: {len(embeddings_2[0])}  Dimentions\")"
   ],
   "id": "dc08a668c9c69eb5",
   "outputs": [
    {
     "name": "stderr",
     "output_type": "stream",
     "text": [
      "/home/yeganeh/PycharmProjects/AI-Intern-Task/.venv/lib/python3.12/site-packages/tqdm/auto.py:21: TqdmWarning: IProgress not found. Please update jupyter and ipywidgets. See https://ipywidgets.readthedocs.io/en/stable/user_install.html\n",
      "  from .autonotebook import tqdm as notebook_tqdm\n"
     ]
    },
    {
     "name": "stdout",
     "output_type": "stream",
     "text": [
      "columns of DataFrame:\n",
      "Index(['Test_Case_ID', 'Title', 'Steps', 'Expected_Result', 'Full_Text'], dtype='object')\n",
      "all-MiniLM-L6-v2...\n"
     ]
    },
    {
     "name": "stderr",
     "output_type": "stream",
     "text": [
      "Batches: 100%|██████████| 1/1 [00:00<00:00,  2.31it/s]\n"
     ]
    },
    {
     "name": "stdout",
     "output_type": "stream",
     "text": [
      "paraphrase-MiniLM-L3-v2...\n"
     ]
    },
    {
     "name": "stderr",
     "output_type": "stream",
     "text": [
      "Batches: 100%|██████████| 1/1 [00:00<00:00, 29.28it/s]"
     ]
    },
    {
     "name": "stdout",
     "output_type": "stream",
     "text": [
      "DataFrame saved: test_cases_with_embeddings.pkl\n",
      "Index FAISS for all-MiniLM-L6-v2 saved: faiss_index_minilm_l6.bin\n",
      "Index FAISS for paraphrase-MiniLM-L3-v2 saved: faiss_index_paraphrase_l3.bin\n",
      "  Test_Case_ID                                              Title  \\\n",
      "0          TC1  Logged-in user completes checkout with valid c...   \n",
      "\n",
      "                                           Full_Text  \\\n",
      "0  Title: Logged-in user completes checkout with ...   \n",
      "\n",
      "                                 Embedding_MiniLM_L6  \\\n",
      "0  [0.007829681, 0.016169727, -0.022719728, -0.03...   \n",
      "\n",
      "                             Embedding_Paraphrase_L3  \n",
      "0  [-0.092349626, -0.080535345, 0.0254122, -0.111...  \n",
      "all-MiniLM-L6-v2: 384  Dimentions\n",
      "paraphrase-MiniLM-L3-v2: 384  Dimentions\n"
     ]
    },
    {
     "name": "stderr",
     "output_type": "stream",
     "text": [
      "\n"
     ]
    }
   ],
   "execution_count": 25
  },
  {
   "metadata": {},
   "cell_type": "code",
   "outputs": [],
   "execution_count": null,
   "source": "",
   "id": "92e0866e931d994c"
  }
 ],
 "metadata": {
  "kernelspec": {
   "display_name": "Python 3",
   "language": "python",
   "name": "python3"
  },
  "language_info": {
   "codemirror_mode": {
    "name": "ipython",
    "version": 2
   },
   "file_extension": ".py",
   "mimetype": "text/x-python",
   "name": "python",
   "nbconvert_exporter": "python",
   "pygments_lexer": "ipython2",
   "version": "2.7.6"
  }
 },
 "nbformat": 4,
 "nbformat_minor": 5
}
