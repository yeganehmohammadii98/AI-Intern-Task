{
 "cells": [
  {
   "cell_type": "code",
   "id": "initial_id",
   "metadata": {
    "collapsed": true,
    "ExecuteTime": {
     "end_time": "2025-07-14T14:05:40.151284Z",
     "start_time": "2025-07-14T14:05:35.902071Z"
    }
   },
   "source": "!pip install pandas",
   "outputs": [
    {
     "name": "stdout",
     "output_type": "stream",
     "text": [
      "Requirement already satisfied: pandas in ./.venv/lib/python3.12/site-packages (2.3.1)\r\n",
      "Requirement already satisfied: numpy>=1.26.0 in ./.venv/lib/python3.12/site-packages (from pandas) (2.3.1)\r\n",
      "Requirement already satisfied: python-dateutil>=2.8.2 in ./.venv/lib/python3.12/site-packages (from pandas) (2.9.0.post0)\r\n",
      "Requirement already satisfied: pytz>=2020.1 in ./.venv/lib/python3.12/site-packages (from pandas) (2025.2)\r\n",
      "Requirement already satisfied: tzdata>=2022.7 in ./.venv/lib/python3.12/site-packages (from pandas) (2025.2)\r\n",
      "Requirement already satisfied: six>=1.5 in ./.venv/lib/python3.12/site-packages (from python-dateutil>=2.8.2->pandas) (1.17.0)\r\n",
      "\r\n",
      "\u001B[1m[\u001B[0m\u001B[34;49mnotice\u001B[0m\u001B[1;39;49m]\u001B[0m\u001B[39;49m A new release of pip is available: \u001B[0m\u001B[31;49m23.2.1\u001B[0m\u001B[39;49m -> \u001B[0m\u001B[32;49m25.1.1\u001B[0m\r\n",
      "\u001B[1m[\u001B[0m\u001B[34;49mnotice\u001B[0m\u001B[1;39;49m]\u001B[0m\u001B[39;49m To update, run: \u001B[0m\u001B[32;49mpip install --upgrade pip\u001B[0m\r\n"
     ]
    }
   ],
   "execution_count": 3
  },
  {
   "metadata": {
    "ExecuteTime": {
     "end_time": "2025-07-14T17:56:13.038514Z",
     "start_time": "2025-07-14T17:56:13.007920Z"
    }
   },
   "cell_type": "code",
   "source": [
    "import pandas as pd\n",
    "\n",
    "test_cases_data = [\n",
    "    {\n",
    "        \"Test_Case_ID\": \"TC1\",\n",
    "        \"Title\": \"Logged-in user completes checkout with valid credit card\",\n",
    "        \"Steps\": \"1. Navigate to product page and add an in-stock item to the cart\\n2. Proceed to checkout\\n3. Confirm shipping address and choose standard delivery\\n4. Select “Credit Card” as payment method\\n5. Enter valid credit card details (e.g., Visa ending in 4242)\\n6. Submit order\",\n",
    "        \"Expected_Result\": \"Order is successfully placed. Confirmation page is displayed with order number and summary. Confirmation email is triggered. Payment transaction is logged in backend.\",\n",
    "        \"Full_Text\": \"Title: Logged-in user completes checkout with valid credit card\\nSteps: 1. Navigate to product page and add an in-stock item to the cart\\n2. Proceed to checkout\\n3. Confirm shipping address and choose standard delivery\\n4. Select “Credit Card” as payment method\\n5. Enter valid credit card details (e.g., Visa ending in 4242)\\n6. Submit order\\nExpected Result: Order is successfully placed. Confirmation page is displayed with order number and summary. Confirmation email is triggered. Payment transaction is logged in backend.\"\n",
    "    },\n",
    "    {\n",
    "        \"Test_Case_ID\": \"TC2\",\n",
    "        \"Title\": \"Server returns 500 error during final checkout submission\",\n",
    "        \"Steps\": \"1. Add product to cart and proceed to checkout\\n2. Fill in valid shipping and payment details\\n3. Submit order (API returns HTTP 500 at this step)\",\n",
    "        \"Expected_Result\": \"Frontend displays generic error message: 'Something went wrong, please try again'. No charge is made to the card. No order is created in the system. Option to retry is presented.\",\n",
    "        \"Full_Text\": \"Title: Server returns 500 error during final checkout submission\\nSteps: 1. Add product to cart and proceed to checkout\\n2. Fill in valid shipping and payment details\\n3. Submit order (API returns HTTP 500 at this step)\\nExpected Result: Frontend displays generic error message: 'Something went wrong, please try again'. No charge is made to the card. No order is created in the system. Option to retry is presented.\"\n",
    "    },\n",
    "    {\n",
    "        \"Test_Case_ID\": \"TC3\",\n",
    "        \"Title\": \"Guest user completes order without creating an account\",\n",
    "        \"Steps\": \"1. Add product to cart\\n2. Choose 'Checkout as Guest'\\n3. Enter shipping and payment details\\n4. Submit order\",\n",
    "        \"Expected_Result\": \"Order confirmation page is displayed. Guest receives confirmation email. No user account is created.\",\n",
    "        \"Full_Text\": \"Title: Guest user completes order without creating an account\\nSteps: 1. Add product to cart\\n2. Choose 'Checkout as Guest'\\n3. Enter shipping and payment details\\n4. Submit order\\nExpected Result: Order confirmation page is displayed. Guest receives confirmation email. No user account is created.\"\n",
    "    },\n",
    "    {\n",
    "        \"Test_Case_ID\": \"TC4\",\n",
    "        \"Title\": \"Reject invalid credit card entry\",\n",
    "        \"Steps\": \"1. Add item to cart and proceed to checkout\\n2. Enter a clearly invalid credit card number (e.g., 0000 0000 0000 0000)\\n3. Attempt to submit order\",\n",
    "        \"Expected_Result\": \"User sees an inline validation error. Cannot proceed until valid card is entered.\",\n",
    "        \"Full_Text\": \"Title: Reject invalid credit card entry\\nSteps: 1. Add item to cart and proceed to checkout\\n2. Enter a clearly invalid credit card number (e.g., 0000 0000 0000 0000)\\n3. Attempt to submit order\\nExpected Result: User sees an inline validation error. Cannot proceed until valid card is entered.\"\n",
    "    },\n",
    "    {\n",
    "        \"Test_Case_ID\": \"TC5\",\n",
    "        \"Title\": \"Handle inventory mismatch during order submission\",\n",
    "        \"Steps\": \"1. Add a low-stock item (only 1 left) to cart\\n2. Another user purchases the item in the meantime\\n3. Attempt to complete checkout\",\n",
    "        \"Expected_Result\": \"Error message 'Item no longer available' is displayed. User is returned to cart to revise order. No payment is processed.\",\n",
    "        \"Full_Text\": \"Title: Handle inventory mismatch during order submission\\nSteps: 1. Add a low-stock item (only 1 left) to cart\\n2. Another user purchases the item in the meantime\\n3. Attempt to complete checkout\\nExpected Result: Error message 'Item no longer available' is displayed. User is returned to cart to revise order. No payment is processed.\"\n",
    "    },\n",
    "    {\n",
    "        \"Test_Case_ID\": \"TC6\",\n",
    "        \"Title\": \"Expired promo code rejected at checkout\",\n",
    "        \"Steps\": \"1. Add product to cart\\n2. Enter expired promo code (e.g., SALE2020)\\n3. Click 'Apply'\",\n",
    "        \"Expected_Result\": \"Message: 'Discount code expired'. No discount applied.\",\n",
    "        \"Full_Text\": \"Title: Expired promo code rejected at checkout\\nSteps: 1. Add product to cart\\n2. Enter expired promo code (e.g., SALE2020)\\n3. Click 'Apply'\\nExpected Result: Message: 'Discount code expired'. No discount applied.\"\n",
    "    },\n",
    "    {\n",
    "        \"Test_Case_ID\": \"TC7\",\n",
    "        \"Title\": \"User exits checkout before entering payment\",\n",
    "        \"Steps\": \"1. Add item to cart\\n2. Begin checkout\\n3. Navigate away before reaching payment\",\n",
    "        \"Expected_Result\": \"No order placed. Cart remains unchanged.\",\n",
    "        \"Full_Text\": \"Title: User exits checkout before entering payment\\nSteps: 1. Add item to cart\\n2. Begin checkout\\n3. Navigate away before reaching payment\\nExpected Result: No order placed. Cart remains unchanged.\"\n",
    "    },\n",
    "    {\n",
    "        \"Test_Case_ID\": \"TC8\",\n",
    "        \"Title\": \"Valid discount code applies correctly\",\n",
    "        \"Steps\": \"1. Add item to cart\\n2. Apply valid discount code\",\n",
    "        \"Expected_Result\": \"Discount applied to total.\",\n",
    "        \"Full_Text\": \"Title: Valid discount code applies correctly\\nSteps: 1. Add item to cart\\n2. Apply valid discount code\\nExpected Result: Discount applied to total.\"\n",
    "    },\n",
    "    {\n",
    "        \"Test_Case_ID\": \"TC9\",\n",
    "        \"Title\": \"Successful PayPal checkout\",\n",
    "        \"Steps\": \"1. Add item to cart\\n2. Select PayPal and authenticate\\n3. Return and confirm order\",\n",
    "        \"Expected_Result\": \"Order placed via PayPal.\",\n",
    "        \"Full_Text\": \"Title: Successful PayPal checkout\\nSteps: 1. Add item to cart\\n2. Select PayPal and authenticate\\n3. Return and confirm order\\nExpected Result: Order placed via PayPal.\"\n",
    "    },\n",
    "    {\n",
    "        \"Test_Case_ID\": \"TC10\",\n",
    "        \"Title\": \"Form validation prevents checkout with missing address\",\n",
    "        \"Steps\": \"1. Start checkout\\n2. Leave required address fields empty\\n3. Try to proceed\",\n",
    "        \"Expected_Result\": \"User is prompted to complete form.\",\n",
    "        \"Full_Text\": \"Title: Form validation prevents checkout with missing address\\nSteps: 1. Start checkout\\n2. Leave required address fields empty\\n3. Try to proceed\\nExpected Result: User is prompted to complete form.\"\n",
    "    }\n",
    "]\n",
    "\n",
    "test_cases_data = pd.DataFrame(test_cases_data)\n",
    "\n",
    "test_cases_data.to_csv(\"test_cases.csv\", index=False)"
   ],
   "id": "1aefe484c8e9c6a7",
   "outputs": [],
   "execution_count": 7
  },
  {
   "metadata": {
    "ExecuteTime": {
     "end_time": "2025-07-14T17:56:15.192155Z",
     "start_time": "2025-07-14T17:56:15.180799Z"
    }
   },
   "cell_type": "code",
   "source": "test_cases_data = pd.read_csv(\"test_cases.csv\")",
   "id": "9470b24134471839",
   "outputs": [],
   "execution_count": 8
  },
  {
   "metadata": {
    "ExecuteTime": {
     "end_time": "2025-07-14T17:56:15.970420Z",
     "start_time": "2025-07-14T17:56:15.947516Z"
    }
   },
   "cell_type": "code",
   "source": "test_cases_data.head(1)",
   "id": "8bc7e1bf7e7daf8c",
   "outputs": [
    {
     "data": {
      "text/plain": [
       "  Test_Case_ID                                              Title  \\\n",
       "0          TC1  Logged-in user completes checkout with valid c...   \n",
       "\n",
       "                                               Steps  \\\n",
       "0  1. Navigate to product page and add an in-stoc...   \n",
       "\n",
       "                                     Expected_Result  \\\n",
       "0  Order is successfully placed. Confirmation pag...   \n",
       "\n",
       "                                           Full_Text  \n",
       "0  Title: Logged-in user completes checkout with ...  "
      ],
      "text/html": [
       "<div>\n",
       "<style scoped>\n",
       "    .dataframe tbody tr th:only-of-type {\n",
       "        vertical-align: middle;\n",
       "    }\n",
       "\n",
       "    .dataframe tbody tr th {\n",
       "        vertical-align: top;\n",
       "    }\n",
       "\n",
       "    .dataframe thead th {\n",
       "        text-align: right;\n",
       "    }\n",
       "</style>\n",
       "<table border=\"1\" class=\"dataframe\">\n",
       "  <thead>\n",
       "    <tr style=\"text-align: right;\">\n",
       "      <th></th>\n",
       "      <th>Test_Case_ID</th>\n",
       "      <th>Title</th>\n",
       "      <th>Steps</th>\n",
       "      <th>Expected_Result</th>\n",
       "      <th>Full_Text</th>\n",
       "    </tr>\n",
       "  </thead>\n",
       "  <tbody>\n",
       "    <tr>\n",
       "      <th>0</th>\n",
       "      <td>TC1</td>\n",
       "      <td>Logged-in user completes checkout with valid c...</td>\n",
       "      <td>1. Navigate to product page and add an in-stoc...</td>\n",
       "      <td>Order is successfully placed. Confirmation pag...</td>\n",
       "      <td>Title: Logged-in user completes checkout with ...</td>\n",
       "    </tr>\n",
       "  </tbody>\n",
       "</table>\n",
       "</div>"
      ]
     },
     "execution_count": 9,
     "metadata": {},
     "output_type": "execute_result"
    }
   ],
   "execution_count": 9
  },
  {
   "metadata": {
    "ExecuteTime": {
     "end_time": "2025-07-14T17:56:16.998893Z",
     "start_time": "2025-07-14T17:56:16.979904Z"
    }
   },
   "cell_type": "code",
   "source": [
    "import pandas as pd\n",
    "\n",
    "prompts = [\n",
    "    {\n",
    "        \"prompt\" : \"Write test cases for checking out with a saved credit card as a logged-in user.\"\n",
    "    },\n",
    "    {\n",
    "       \"prompt\" : \"Generate test cases for scenarios involving invalid payment methods during checkout.\"\n",
    "    },\n",
    "    {\n",
    "       \"prompt\" : \"Create test cases for handling server/API errors during checkout (e.g., 500 Internal Server Error on order submission, timeout during payment gateway call). Include edge case logic and how the frontend should respond. Format as Title, Steps, Expected Result, with detailed technical coverage.\"\n",
    "    }\n",
    "]\n",
    "\n",
    "prompts = pd.DataFrame(prompts)\n",
    "\n",
    "prompts.to_csv(\"prompts.csv\", index=False)"
   ],
   "id": "f4b1c2b393e81e9a",
   "outputs": [],
   "execution_count": 10
  },
  {
   "metadata": {
    "ExecuteTime": {
     "end_time": "2025-07-14T17:56:18.273025Z",
     "start_time": "2025-07-14T17:56:18.263797Z"
    }
   },
   "cell_type": "code",
   "source": "prompts = pd.read_csv(\"prompts.csv\")",
   "id": "f21a2f815e5039d1",
   "outputs": [],
   "execution_count": 11
  },
  {
   "metadata": {
    "ExecuteTime": {
     "end_time": "2025-07-14T17:56:19.359275Z",
     "start_time": "2025-07-14T17:56:19.347972Z"
    }
   },
   "cell_type": "code",
   "source": "prompts.head(1)",
   "id": "53e35edccdfdc0f9",
   "outputs": [
    {
     "data": {
      "text/plain": [
       "                                              prompt\n",
       "0  Write test cases for checking out with a saved..."
      ],
      "text/html": [
       "<div>\n",
       "<style scoped>\n",
       "    .dataframe tbody tr th:only-of-type {\n",
       "        vertical-align: middle;\n",
       "    }\n",
       "\n",
       "    .dataframe tbody tr th {\n",
       "        vertical-align: top;\n",
       "    }\n",
       "\n",
       "    .dataframe thead th {\n",
       "        text-align: right;\n",
       "    }\n",
       "</style>\n",
       "<table border=\"1\" class=\"dataframe\">\n",
       "  <thead>\n",
       "    <tr style=\"text-align: right;\">\n",
       "      <th></th>\n",
       "      <th>prompt</th>\n",
       "    </tr>\n",
       "  </thead>\n",
       "  <tbody>\n",
       "    <tr>\n",
       "      <th>0</th>\n",
       "      <td>Write test cases for checking out with a saved...</td>\n",
       "    </tr>\n",
       "  </tbody>\n",
       "</table>\n",
       "</div>"
      ]
     },
     "execution_count": 12,
     "metadata": {},
     "output_type": "execute_result"
    }
   ],
   "execution_count": 12
  },
  {
   "metadata": {
    "ExecuteTime": {
     "end_time": "2025-07-14T17:56:21.931538Z",
     "start_time": "2025-07-14T17:56:20.504124Z"
    }
   },
   "cell_type": "code",
   "source": "!pip install numpy scikit-learn faiss-cpu transformers",
   "id": "3765f2140e969898",
   "outputs": [
    {
     "name": "stderr",
     "output_type": "stream",
     "text": [
      "huggingface/tokenizers: The current process just got forked, after parallelism has already been used. Disabling parallelism to avoid deadlocks...\n",
      "To disable this warning, you can either:\n",
      "\t- Avoid using `tokenizers` before the fork if possible\n",
      "\t- Explicitly set the environment variable TOKENIZERS_PARALLELISM=(true | false)\n"
     ]
    },
    {
     "name": "stdout",
     "output_type": "stream",
     "text": [
      "Requirement already satisfied: numpy in ./.venv/lib/python3.12/site-packages (2.3.1)\r\n",
      "Requirement already satisfied: scikit-learn in ./.venv/lib/python3.12/site-packages (1.7.0)\r\n",
      "Requirement already satisfied: faiss-cpu in ./.venv/lib/python3.12/site-packages (1.11.0)\r\n",
      "Requirement already satisfied: transformers in ./.venv/lib/python3.12/site-packages (4.53.2)\r\n",
      "Requirement already satisfied: scipy>=1.8.0 in ./.venv/lib/python3.12/site-packages (from scikit-learn) (1.16.0)\r\n",
      "Requirement already satisfied: joblib>=1.2.0 in ./.venv/lib/python3.12/site-packages (from scikit-learn) (1.5.1)\r\n",
      "Requirement already satisfied: threadpoolctl>=3.1.0 in ./.venv/lib/python3.12/site-packages (from scikit-learn) (3.6.0)\r\n",
      "Requirement already satisfied: packaging in ./.venv/lib/python3.12/site-packages (from faiss-cpu) (25.0)\r\n",
      "Requirement already satisfied: filelock in ./.venv/lib/python3.12/site-packages (from transformers) (3.18.0)\r\n",
      "Requirement already satisfied: huggingface-hub<1.0,>=0.30.0 in ./.venv/lib/python3.12/site-packages (from transformers) (0.33.4)\r\n",
      "Requirement already satisfied: pyyaml>=5.1 in ./.venv/lib/python3.12/site-packages (from transformers) (6.0.2)\r\n",
      "Requirement already satisfied: regex!=2019.12.17 in ./.venv/lib/python3.12/site-packages (from transformers) (2024.11.6)\r\n",
      "Requirement already satisfied: requests in ./.venv/lib/python3.12/site-packages (from transformers) (2.32.4)\r\n",
      "Requirement already satisfied: tokenizers<0.22,>=0.21 in ./.venv/lib/python3.12/site-packages (from transformers) (0.21.2)\r\n",
      "Requirement already satisfied: safetensors>=0.4.3 in ./.venv/lib/python3.12/site-packages (from transformers) (0.5.3)\r\n",
      "Requirement already satisfied: tqdm>=4.27 in ./.venv/lib/python3.12/site-packages (from transformers) (4.67.1)\r\n",
      "Requirement already satisfied: fsspec>=2023.5.0 in ./.venv/lib/python3.12/site-packages (from huggingface-hub<1.0,>=0.30.0->transformers) (2025.5.1)\r\n",
      "Requirement already satisfied: typing-extensions>=3.7.4.3 in ./.venv/lib/python3.12/site-packages (from huggingface-hub<1.0,>=0.30.0->transformers) (4.14.1)\r\n",
      "Requirement already satisfied: hf-xet<2.0.0,>=1.1.2 in ./.venv/lib/python3.12/site-packages (from huggingface-hub<1.0,>=0.30.0->transformers) (1.1.5)\r\n",
      "Requirement already satisfied: charset_normalizer<4,>=2 in ./.venv/lib/python3.12/site-packages (from requests->transformers) (3.4.2)\r\n",
      "Requirement already satisfied: idna<4,>=2.5 in ./.venv/lib/python3.12/site-packages (from requests->transformers) (3.10)\r\n",
      "Requirement already satisfied: urllib3<3,>=1.21.1 in ./.venv/lib/python3.12/site-packages (from requests->transformers) (2.5.0)\r\n",
      "Requirement already satisfied: certifi>=2017.4.17 in ./.venv/lib/python3.12/site-packages (from requests->transformers) (2025.7.14)\r\n"
     ]
    }
   ],
   "execution_count": 13
  },
  {
   "metadata": {},
   "cell_type": "code",
   "outputs": [],
   "execution_count": null,
   "source": "!pip install nltk spacy",
   "id": "6ddaa2d1d85cbdc9"
  },
  {
   "metadata": {},
   "cell_type": "raw",
   "source": "#step 1 : Chunking & Embedding",
   "id": "c485da3bc73fde6b"
  },
  {
   "metadata": {
    "ExecuteTime": {
     "end_time": "2025-07-14T17:58:02.150777Z",
     "start_time": "2025-07-14T17:57:50.969961Z"
    }
   },
   "cell_type": "code",
   "source": [
    "import pandas as pd\n",
    "import numpy as np\n",
    "from sentence_transformers import SentenceTransformer\n",
    "import pickle\n",
    "\n",
    "# load models\n",
    "test_cases_data = pd.read_csv('test_cases.csv')\n",
    "print(\"Columns of DataFrame:\", test_cases_data.columns)\n",
    "\n",
    "# check and creat Full_Text column\n",
    "if 'Full_Text' not in test_cases_data.columns:\n",
    "    def combine_test_case(row):\n",
    "        return f\"Title: {row['Title']}\\nSteps: {row['Steps']}\\nExpected Result: {row['Expected_Result']}\"\n",
    "    test_cases_data['Full_Text'] = test_cases_data.apply(combine_test_case, axis=1)\n",
    "\n",
    "# load on CPU\n",
    "model_1 = SentenceTransformer('all-MiniLM-L6-v2', device='cpu')\n",
    "model_2 = SentenceTransformer('paraphrase-MiniLM-L3-v2', device='cpu')\n",
    "\n",
    "# Generating embedding\n",
    "print(\"all-MiniLM-L6-v2...\")\n",
    "embeddings_1 = model_1.encode(test_cases_data['Full_Text'].tolist(), show_progress_bar=True)\n",
    "print(\"paraphrase-MiniLM-L3-v2...\")\n",
    "embeddings_2 = model_2.encode(test_cases_data['Full_Text'].tolist(), show_progress_bar=True)\n",
    "\n",
    "# Add to DataFrame\n",
    "test_cases_data['Embedding_MiniLM_L6'] = list(embeddings_1)\n",
    "test_cases_data['Embedding_Paraphrase_L3'] = list(embeddings_2)\n",
    "\n",
    "# Save to DataFrame\n",
    "test_cases_data.to_pickle('test_cases_with_embeddings.pkl')\n",
    "print(\"DataFrame saved: test_cases_with_embeddings.pkl\")\n",
    "\n",
    "# Output\n",
    "print(test_cases_data[['Test_Case_ID', 'Title', 'Full_Text', 'Embedding_MiniLM_L6', 'Embedding_Paraphrase_L3']].head(1))\n",
    "print(\"\\nDimensions of Embedding:\", f\"all-MiniLM-L6-v2: {len(embeddings_1[0])} Dimensions\", f\"paraphrase-MiniLM-L3-v2: {len(embeddings_2[0])} Dimensions\")"
   ],
   "id": "f4f43f89671c285a",
   "outputs": [
    {
     "name": "stdout",
     "output_type": "stream",
     "text": [
      "Columns of DataFrame: Index(['Test_Case_ID', 'Title', 'Steps', 'Expected_Result', 'Full_Text'], dtype='object')\n",
      "all-MiniLM-L6-v2...\n"
     ]
    },
    {
     "name": "stderr",
     "output_type": "stream",
     "text": [
      "Batches: 100%|██████████| 1/1 [00:00<00:00,  2.33it/s]\n"
     ]
    },
    {
     "name": "stdout",
     "output_type": "stream",
     "text": [
      "paraphrase-MiniLM-L3-v2...\n"
     ]
    },
    {
     "name": "stderr",
     "output_type": "stream",
     "text": [
      "Batches: 100%|██████████| 1/1 [00:00<00:00,  5.51it/s]"
     ]
    },
    {
     "name": "stdout",
     "output_type": "stream",
     "text": [
      "DataFrame saved: test_cases_with_embeddings.pkl\n",
      "  Test_Case_ID                                              Title  \\\n",
      "0          TC1  Logged-in user completes checkout with valid c...   \n",
      "\n",
      "                                           Full_Text  \\\n",
      "0  Title: Logged-in user completes checkout with ...   \n",
      "\n",
      "                                 Embedding_MiniLM_L6  \\\n",
      "0  [0.007829677, 0.016169759, -0.022719743, -0.03...   \n",
      "\n",
      "                             Embedding_Paraphrase_L3  \n",
      "0  [-0.092349544, -0.08053535, 0.025412215, -0.11...  \n",
      "\n",
      "Dimensions of Embedding: all-MiniLM-L6-v2: 384 Dimensions paraphrase-MiniLM-L3-v2: 384 Dimensions\n"
     ]
    },
    {
     "name": "stderr",
     "output_type": "stream",
     "text": [
      "\n"
     ]
    }
   ],
   "execution_count": 15
  },
  {
   "metadata": {},
   "cell_type": "raw",
   "source": "#step 2 : embedding prompts , calculating similarity , finding similar test cases(top 3)",
   "id": "aa0e483250010f89"
  },
  {
   "metadata": {
    "ExecuteTime": {
     "end_time": "2025-07-14T18:16:06.355787Z",
     "start_time": "2025-07-14T18:16:03.146867Z"
    }
   },
   "cell_type": "code",
   "source": [
    "import pandas as pd\n",
    "import numpy as np\n",
    "from sentence_transformers import SentenceTransformer\n",
    "from sklearn.metrics.pairwise import cosine_similarity\n",
    "\n",
    "# Load Dataframe with Embeddings\n",
    "test_cases_data = pd.read_pickle('test_cases_with_embeddings.pkl')\n",
    "\n",
    "# Load prompts\n",
    "prompts_data = pd.read_csv('prompts.csv')\n",
    "prompts = prompts_data['prompt'].tolist()  #\n",
    "\n",
    "\n",
    "model_1 = SentenceTransformer('all-MiniLM-L6-v2', device='cpu')\n",
    "\n",
    "# prompt process\n",
    "for prompt in prompts:\n",
    "    print(f\"\\nPrompt: {prompt}\")\n",
    "\n",
    "    prompt_embedding = model_1.encode([prompt])\n",
    "\n",
    "\n",
    "    embeddings_1 = np.array(test_cases_data['Embedding_MiniLM_L6'].tolist(), dtype=np.float32)\n",
    "    similarities = cosine_similarity(prompt_embedding, embeddings_1)\n",
    "\n",
    "    # finding top 3\n",
    "    top_k = 3\n",
    "    top_indices = similarities[0].argsort()[-top_k:][::-1]\n",
    "\n",
    "\n",
    "    print(\"Test cases related to prompt:\")\n",
    "    for idx in top_indices:\n",
    "        print(f\"Test Case ID: {test_cases_data.iloc[idx]['Test_Case_ID']}\")\n",
    "        print(f\"Title: {test_cases_data.iloc[idx]['Title']}\")\n",
    "        print(f\"Full_Text: {test_cases_data.iloc[idx]['Full_Text']}\")\n",
    "        print(\"---\")"
   ],
   "id": "4722cf3d0dec0b44",
   "outputs": [
    {
     "name": "stdout",
     "output_type": "stream",
     "text": [
      "\n",
      "Prompt: Write test cases for checking out with a saved credit card as a logged-in user.\n",
      "Test cases related to prompt:\n",
      "Test Case ID: TC1\n",
      "Title: Logged-in user completes checkout with valid credit card\n",
      "Full_Text: Title: Logged-in user completes checkout with valid credit card\n",
      "Steps: 1. Navigate to product page and add an in-stock item to the cart\n",
      "2. Proceed to checkout\n",
      "3. Confirm shipping address and choose standard delivery\n",
      "4. Select “Credit Card” as payment method\n",
      "5. Enter valid credit card details (e.g., Visa ending in 4242)\n",
      "6. Submit order\n",
      "Expected Result: Order is successfully placed. Confirmation page is displayed with order number and summary. Confirmation email is triggered. Payment transaction is logged in backend.\n",
      "---\n",
      "Test Case ID: TC4\n",
      "Title: Reject invalid credit card entry\n",
      "Full_Text: Title: Reject invalid credit card entry\n",
      "Steps: 1. Add item to cart and proceed to checkout\n",
      "2. Enter a clearly invalid credit card number (e.g., 0000 0000 0000 0000)\n",
      "3. Attempt to submit order\n",
      "Expected Result: User sees an inline validation error. Cannot proceed until valid card is entered.\n",
      "---\n",
      "Test Case ID: TC3\n",
      "Title: Guest user completes order without creating an account\n",
      "Full_Text: Title: Guest user completes order without creating an account\n",
      "Steps: 1. Add product to cart\n",
      "2. Choose 'Checkout as Guest'\n",
      "3. Enter shipping and payment details\n",
      "4. Submit order\n",
      "Expected Result: Order confirmation page is displayed. Guest receives confirmation email. No user account is created.\n",
      "---\n",
      "\n",
      "Prompt: Generate test cases for scenarios involving invalid payment methods during checkout.\n",
      "Test cases related to prompt:\n",
      "Test Case ID: TC4\n",
      "Title: Reject invalid credit card entry\n",
      "Full_Text: Title: Reject invalid credit card entry\n",
      "Steps: 1. Add item to cart and proceed to checkout\n",
      "2. Enter a clearly invalid credit card number (e.g., 0000 0000 0000 0000)\n",
      "3. Attempt to submit order\n",
      "Expected Result: User sees an inline validation error. Cannot proceed until valid card is entered.\n",
      "---\n",
      "Test Case ID: TC1\n",
      "Title: Logged-in user completes checkout with valid credit card\n",
      "Full_Text: Title: Logged-in user completes checkout with valid credit card\n",
      "Steps: 1. Navigate to product page and add an in-stock item to the cart\n",
      "2. Proceed to checkout\n",
      "3. Confirm shipping address and choose standard delivery\n",
      "4. Select “Credit Card” as payment method\n",
      "5. Enter valid credit card details (e.g., Visa ending in 4242)\n",
      "6. Submit order\n",
      "Expected Result: Order is successfully placed. Confirmation page is displayed with order number and summary. Confirmation email is triggered. Payment transaction is logged in backend.\n",
      "---\n",
      "Test Case ID: TC7\n",
      "Title: User exits checkout before entering payment\n",
      "Full_Text: Title: User exits checkout before entering payment\n",
      "Steps: 1. Add item to cart\n",
      "2. Begin checkout\n",
      "3. Navigate away before reaching payment\n",
      "Expected Result: No order placed. Cart remains unchanged.\n",
      "---\n",
      "\n",
      "Prompt: Create test cases for handling server/API errors during checkout (e.g., 500 Internal Server Error on order submission, timeout during payment gateway call). Include edge case logic and how the frontend should respond. Format as Title, Steps, Expected Result, with detailed technical coverage.\n",
      "Test cases related to prompt:\n",
      "Test Case ID: TC2\n",
      "Title: Server returns 500 error during final checkout submission\n",
      "Full_Text: Title: Server returns 500 error during final checkout submission\n",
      "Steps: 1. Add product to cart and proceed to checkout\n",
      "2. Fill in valid shipping and payment details\n",
      "3. Submit order (API returns HTTP 500 at this step)\n",
      "Expected Result: Frontend displays generic error message: 'Something went wrong, please try again'. No charge is made to the card. No order is created in the system. Option to retry is presented.\n",
      "---\n",
      "Test Case ID: TC1\n",
      "Title: Logged-in user completes checkout with valid credit card\n",
      "Full_Text: Title: Logged-in user completes checkout with valid credit card\n",
      "Steps: 1. Navigate to product page and add an in-stock item to the cart\n",
      "2. Proceed to checkout\n",
      "3. Confirm shipping address and choose standard delivery\n",
      "4. Select “Credit Card” as payment method\n",
      "5. Enter valid credit card details (e.g., Visa ending in 4242)\n",
      "6. Submit order\n",
      "Expected Result: Order is successfully placed. Confirmation page is displayed with order number and summary. Confirmation email is triggered. Payment transaction is logged in backend.\n",
      "---\n",
      "Test Case ID: TC4\n",
      "Title: Reject invalid credit card entry\n",
      "Full_Text: Title: Reject invalid credit card entry\n",
      "Steps: 1. Add item to cart and proceed to checkout\n",
      "2. Enter a clearly invalid credit card number (e.g., 0000 0000 0000 0000)\n",
      "3. Attempt to submit order\n",
      "Expected Result: User sees an inline validation error. Cannot proceed until valid card is entered.\n",
      "---\n"
     ]
    }
   ],
   "execution_count": 23
  },
  {
   "metadata": {
    "ExecuteTime": {
     "end_time": "2025-07-14T18:26:38.298854Z",
     "start_time": "2025-07-14T18:26:34.913642Z"
    }
   },
   "cell_type": "code",
   "source": [
    "import pandas as pd\n",
    "import numpy as np\n",
    "from sentence_transformers import SentenceTransformer\n",
    "from sklearn.metrics.pairwise import cosine_similarity\n",
    "\n",
    "# Load Dataframe with Embeddings\n",
    "test_cases_data = pd.read_pickle('test_cases_with_embeddings.pkl')\n",
    "\n",
    "# Load prompts\n",
    "prompts_data = pd.read_csv('prompts.csv')\n",
    "prompts = prompts_data['prompt'].tolist()  #\n",
    "\n",
    "\n",
    "model_2 = SentenceTransformer('paraphrase-MiniLM-L3-v2', device='cpu')\n",
    "\n",
    "# prompt process\n",
    "for prompt in prompts:\n",
    "    print(f\"\\nPrompt: {prompt}\")\n",
    "\n",
    "    prompt_embedding = model_2.encode([prompt])\n",
    "\n",
    "\n",
    "    embeddings_2 = np.array(test_cases_data['Embedding_Paraphrase_L3'].tolist(), dtype=np.float32)\n",
    "    similarities = cosine_similarity(prompt_embedding, embeddings_2)\n",
    "\n",
    "    # finding top 3\n",
    "    top_k = 3\n",
    "    top_indices = similarities[0].argsort()[-top_k:][::-1]\n",
    "\n",
    "\n",
    "    print(\"Test cases related to prompt:\")\n",
    "    for idx in top_indices:\n",
    "        print(f\"Test Case ID: {test_cases_data.iloc[idx]['Test_Case_ID']}\")\n",
    "        print(f\"Title: {test_cases_data.iloc[idx]['Title']}\")\n",
    "        print(f\"Full_Text: {test_cases_data.iloc[idx]['Full_Text']}\")\n",
    "        print(\"---\")"
   ],
   "id": "db0daa47ad092544",
   "outputs": [
    {
     "name": "stdout",
     "output_type": "stream",
     "text": [
      "\n",
      "Prompt: Write test cases for checking out with a saved credit card as a logged-in user.\n",
      "Test cases related to prompt:\n",
      "Test Case ID: TC1\n",
      "Title: Logged-in user completes checkout with valid credit card\n",
      "Full_Text: Title: Logged-in user completes checkout with valid credit card\n",
      "Steps: 1. Navigate to product page and add an in-stock item to the cart\n",
      "2. Proceed to checkout\n",
      "3. Confirm shipping address and choose standard delivery\n",
      "4. Select “Credit Card” as payment method\n",
      "5. Enter valid credit card details (e.g., Visa ending in 4242)\n",
      "6. Submit order\n",
      "Expected Result: Order is successfully placed. Confirmation page is displayed with order number and summary. Confirmation email is triggered. Payment transaction is logged in backend.\n",
      "---\n",
      "Test Case ID: TC4\n",
      "Title: Reject invalid credit card entry\n",
      "Full_Text: Title: Reject invalid credit card entry\n",
      "Steps: 1. Add item to cart and proceed to checkout\n",
      "2. Enter a clearly invalid credit card number (e.g., 0000 0000 0000 0000)\n",
      "3. Attempt to submit order\n",
      "Expected Result: User sees an inline validation error. Cannot proceed until valid card is entered.\n",
      "---\n",
      "Test Case ID: TC7\n",
      "Title: User exits checkout before entering payment\n",
      "Full_Text: Title: User exits checkout before entering payment\n",
      "Steps: 1. Add item to cart\n",
      "2. Begin checkout\n",
      "3. Navigate away before reaching payment\n",
      "Expected Result: No order placed. Cart remains unchanged.\n",
      "---\n",
      "\n",
      "Prompt: Generate test cases for scenarios involving invalid payment methods during checkout.\n",
      "Test cases related to prompt:\n",
      "Test Case ID: TC10\n",
      "Title: Form validation prevents checkout with missing address\n",
      "Full_Text: Title: Form validation prevents checkout with missing address\n",
      "Steps: 1. Start checkout\n",
      "2. Leave required address fields empty\n",
      "3. Try to proceed\n",
      "Expected Result: User is prompted to complete form.\n",
      "---\n",
      "Test Case ID: TC4\n",
      "Title: Reject invalid credit card entry\n",
      "Full_Text: Title: Reject invalid credit card entry\n",
      "Steps: 1. Add item to cart and proceed to checkout\n",
      "2. Enter a clearly invalid credit card number (e.g., 0000 0000 0000 0000)\n",
      "3. Attempt to submit order\n",
      "Expected Result: User sees an inline validation error. Cannot proceed until valid card is entered.\n",
      "---\n",
      "Test Case ID: TC2\n",
      "Title: Server returns 500 error during final checkout submission\n",
      "Full_Text: Title: Server returns 500 error during final checkout submission\n",
      "Steps: 1. Add product to cart and proceed to checkout\n",
      "2. Fill in valid shipping and payment details\n",
      "3. Submit order (API returns HTTP 500 at this step)\n",
      "Expected Result: Frontend displays generic error message: 'Something went wrong, please try again'. No charge is made to the card. No order is created in the system. Option to retry is presented.\n",
      "---\n",
      "\n",
      "Prompt: Create test cases for handling server/API errors during checkout (e.g., 500 Internal Server Error on order submission, timeout during payment gateway call). Include edge case logic and how the frontend should respond. Format as Title, Steps, Expected Result, with detailed technical coverage.\n",
      "Test cases related to prompt:\n",
      "Test Case ID: TC2\n",
      "Title: Server returns 500 error during final checkout submission\n",
      "Full_Text: Title: Server returns 500 error during final checkout submission\n",
      "Steps: 1. Add product to cart and proceed to checkout\n",
      "2. Fill in valid shipping and payment details\n",
      "3. Submit order (API returns HTTP 500 at this step)\n",
      "Expected Result: Frontend displays generic error message: 'Something went wrong, please try again'. No charge is made to the card. No order is created in the system. Option to retry is presented.\n",
      "---\n",
      "Test Case ID: TC10\n",
      "Title: Form validation prevents checkout with missing address\n",
      "Full_Text: Title: Form validation prevents checkout with missing address\n",
      "Steps: 1. Start checkout\n",
      "2. Leave required address fields empty\n",
      "3. Try to proceed\n",
      "Expected Result: User is prompted to complete form.\n",
      "---\n",
      "Test Case ID: TC6\n",
      "Title: Expired promo code rejected at checkout\n",
      "Full_Text: Title: Expired promo code rejected at checkout\n",
      "Steps: 1. Add product to cart\n",
      "2. Enter expired promo code (e.g., SALE2020)\n",
      "3. Click 'Apply'\n",
      "Expected Result: Message: 'Discount code expired'. No discount applied.\n",
      "---\n"
     ]
    }
   ],
   "execution_count": 25
  },
  {
   "metadata": {
    "jupyter": {
     "is_executing": true
    },
    "ExecuteTime": {
     "start_time": "2025-07-14T19:21:14.657621Z"
    }
   },
   "cell_type": "code",
   "source": [
    "from transformers import pipeline\n",
    "\n",
    "# pipeline for generating test case\n",
    "from transformers import pipeline\n",
    "\n",
    "   # Set your Hugging Face token\n",
    "generator = pipeline('text-generation', model='gpt2')\n",
    "\n",
    "retrieved_cases_text = \"\\n\\n\".join(\n",
    "    [test_cases_data.iloc[idx]['Full_Text'] for idx in top_indices]\n",
    ")\n",
    "\n",
    "\n",
    "final_prompt = f\"\"\"\n",
    "Here are some examples of existing test cases:\n",
    "---\n",
    "{retrieved_cases_text}\n",
    "---\n",
    "Based on the examples above, write a new, detailed test case for the following user request: \"{prompt}\"\n",
    "Format the output with a Title, Steps, and Expected Result.\n",
    "\"\"\"\n",
    "\n",
    "\n",
    "generated_test_case = generator(prompt, max_length=10, num_return_sequences=1)\n",
    "print(generated_test_case[0]['generated_text'])"
   ],
   "id": "4a4d685c0816ff9c",
   "outputs": [
    {
     "name": "stderr",
     "output_type": "stream",
     "text": [
      "/home/yeganeh/PycharmProjects/AI-Intern-Task/.venv/lib/python3.12/site-packages/tqdm/auto.py:21: TqdmWarning: IProgress not found. Please update jupyter and ipywidgets. See https://ipywidgets.readthedocs.io/en/stable/user_install.html\n",
      "  from .autonotebook import tqdm as notebook_tqdm\n"
     ]
    }
   ],
   "execution_count": null
  },
  {
   "metadata": {},
   "cell_type": "code",
   "outputs": [],
   "execution_count": null,
   "source": "",
   "id": "f469c4b51a69e63"
  }
 ],
 "metadata": {
  "kernelspec": {
   "display_name": "Python 3",
   "language": "python",
   "name": "python3"
  },
  "language_info": {
   "codemirror_mode": {
    "name": "ipython",
    "version": 2
   },
   "file_extension": ".py",
   "mimetype": "text/x-python",
   "name": "python",
   "nbconvert_exporter": "python",
   "pygments_lexer": "ipython2",
   "version": "2.7.6"
  }
 },
 "nbformat": 4,
 "nbformat_minor": 5
}
